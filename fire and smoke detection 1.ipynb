{
 "cells": [
  {
   "cell_type": "code",
   "execution_count": 1,
   "id": "fe66894e",
   "metadata": {},
   "outputs": [
    {
     "name": "stdout",
     "output_type": "stream",
     "text": [
      "Requirement already satisfied: opencv-python in c:\\users\\wesli\\anaconda3\\lib\\site-packages (4.11.0.86)\n",
      "Requirement already satisfied: numpy in c:\\users\\wesli\\anaconda3\\lib\\site-packages (1.26.4)\n",
      "Requirement already satisfied: imutils in c:\\users\\wesli\\anaconda3\\lib\\site-packages (0.5.4)\n",
      "Note: you may need to restart the kernel to use updated packages.\n"
     ]
    }
   ],
   "source": [
    "pip install opencv-python numpy imutils\n"
   ]
  },
  {
   "cell_type": "code",
   "execution_count": 1,
   "id": "31d66291",
   "metadata": {},
   "outputs": [],
   "source": [
    "import cv2\n",
    "import numpy as np\n",
    "\n",
    "def detect_fire_smoke(frame):\n",
    "    hsv = cv2.cvtColor(frame, cv2.COLOR_BGR2HSV)\n",
    "\n",
    "    # Fire color range (tuned for orange/yellow flames)\n",
    "    lower_fire = np.array([18, 50, 50])\n",
    "    upper_fire = np.array([35, 255, 255])\n",
    "\n",
    "    # Smoke color range (grayish, light)\n",
    "    lower_smoke = np.array([0, 0, 100])\n",
    "    upper_smoke = np.array([180, 50, 255])\n",
    "\n",
    "    fire_mask = cv2.inRange(hsv, lower_fire, upper_fire)\n",
    "    smoke_mask = cv2.inRange(hsv, lower_smoke, upper_smoke)\n",
    "\n",
    "    fire_output = cv2.bitwise_and(frame, frame, mask=fire_mask)\n",
    "    smoke_output = cv2.bitwise_and(frame, frame, mask=smoke_mask)\n",
    "\n",
    "    fire_detected = cv2.countNonZero(fire_mask) > 500\n",
    "    smoke_detected = cv2.countNonZero(smoke_mask) > 800\n",
    "\n",
    "    if fire_detected:\n",
    "        cv2.putText(frame, \"FIRE DETECTED!\", (10, 40), cv2.FONT_HERSHEY_SIMPLEX, 1.2, (0, 0, 255), 3)\n",
    "    if smoke_detected:\n",
    "        cv2.putText(frame, \"SMOKE DETECTED!\", (10, 80), cv2.FONT_HERSHEY_SIMPLEX, 1.2, (255, 0, 0), 3)\n",
    "\n",
    "    return frame, fire_detected, smoke_detected\n",
    "\n",
    "# Start video capture\n",
    "cap = cv2.VideoCapture(0)  # Change to video file path if needed\n",
    "\n",
    "while True:\n",
    "    ret, frame = cap.read()\n",
    "    if not ret:\n",
    "        break\n",
    "\n",
    "    output, fire, smoke = detect_fire_smoke(frame)\n",
    "    cv2.imshow(\"Fire and Smoke Detection\", output)\n",
    "\n",
    "    key = cv2.waitKey(1)\n",
    "    if key == 27:  # ESC key\n",
    "        break\n",
    "\n",
    "cap.release()\n",
    "cv2.destroyAllWindows()\n"
   ]
  },
  {
   "cell_type": "code",
   "execution_count": null,
   "id": "19d0917b",
   "metadata": {},
   "outputs": [],
   "source": []
  }
 ],
 "metadata": {
  "kernelspec": {
   "display_name": "base",
   "language": "python",
   "name": "python3"
  },
  "language_info": {
   "codemirror_mode": {
    "name": "ipython",
    "version": 3
   },
   "file_extension": ".py",
   "mimetype": "text/x-python",
   "name": "python",
   "nbconvert_exporter": "python",
   "pygments_lexer": "ipython3",
   "version": "3.12.4"
  }
 },
 "nbformat": 4,
 "nbformat_minor": 5
}
